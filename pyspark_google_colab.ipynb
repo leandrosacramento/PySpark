{
  "nbformat": 4,
  "nbformat_minor": 0,
  "metadata": {
    "colab": {
      "name": "pyspark_google_colab.ipynb",
      "provenance": [],
      "collapsed_sections": []
    },
    "kernelspec": {
      "name": "python3",
      "display_name": "Python 3"
    },
    "language_info": {
      "name": "python"
    }
  },
  "cells": [
    {
      "cell_type": "markdown",
      "metadata": {
        "id": "lg2_ToWkaP2K"
      },
      "source": [
        "#**PySpark no Google Colab**\n",
        "---"
      ]
    },
    {
      "cell_type": "markdown",
      "metadata": {
        "id": "KdG2fw-nalgR"
      },
      "source": [
        "####Configurando o Google Colab para habilitar o uso do PySpark"
      ]
    },
    {
      "cell_type": "code",
      "metadata": {
        "id": "8Tyi0_Kkwr98"
      },
      "source": [
        "# Instala o Java JDK 8\n",
        "!apt-get install openjdk-8-jdk-headless -qq > /dev/null"
      ],
      "execution_count": 1,
      "outputs": []
    },
    {
      "cell_type": "code",
      "metadata": {
        "id": "7cgdUcYAwudD"
      },
      "source": [
        "# Download do Apache Spark 3.1.2\n",
        "!wget -q https://downloads.apache.org/spark/spark-3.1.2/spark-3.1.2-bin-hadoop3.2.tgz"
      ],
      "execution_count": 2,
      "outputs": []
    },
    {
      "cell_type": "code",
      "metadata": {
        "id": "C55wOdDlwy_p"
      },
      "source": [
        "# Descompacta o Apache Spark 3.1.2\n",
        "!tar xf spark-3.1.2-bin-hadoop3.2.tgz"
      ],
      "execution_count": 3,
      "outputs": []
    },
    {
      "cell_type": "code",
      "metadata": {
        "id": "Jl-lZaHFcHrX"
      },
      "source": [
        "# Remove o arquivo compactado do Apache Spark 3.1.2\n",
        "!rm -rf spark-3.1.2-bin-hadoop3.2.tgz"
      ],
      "execution_count": 4,
      "outputs": []
    },
    {
      "cell_type": "code",
      "metadata": {
        "id": "p7SeYXKgyAfS",
        "colab": {
          "base_uri": "https://localhost:8080/"
        },
        "outputId": "906659d3-ac5c-4733-926b-88ebb208ab9c"
      },
      "source": [
        "# Instala os módulos FindSpark e PySpark\n",
        "!pip install -q findspark\n",
        "!pip install -q pyspark==3.1.2"
      ],
      "execution_count": 5,
      "outputs": [
        {
          "output_type": "stream",
          "name": "stdout",
          "text": [
            "\u001b[K     |████████████████████████████████| 281.3 MB 41 kB/s \n",
            "\u001b[K     |████████████████████████████████| 198 kB 38.0 MB/s \n",
            "\u001b[?25h  Building wheel for pyspark (setup.py) ... \u001b[?25l\u001b[?25hdone\n"
          ]
        }
      ]
    },
    {
      "cell_type": "markdown",
      "metadata": {
        "id": "Mnbo-U4EdVy2"
      },
      "source": [
        "####Configurando o ambiente para uso do PySpark"
      ]
    },
    {
      "cell_type": "code",
      "metadata": {
        "id": "CXXP8BV8YGer"
      },
      "source": [
        "# Importa os módulos\n",
        "import os\n",
        "import findspark\n",
        "from pyspark.sql import SparkSession\n",
        "from pyspark.sql import functions as F"
      ],
      "execution_count": 6,
      "outputs": []
    },
    {
      "cell_type": "code",
      "metadata": {
        "id": "Gg_n020caIcU"
      },
      "source": [
        "#  Define as variáveis ambientes Home do Java e Spark\n",
        "os.environ[\"JAVA_HOME\"] = \"/usr/lib/jvm/java-8-openjdk-amd64\"\n",
        "os.environ[\"SPARK_HOME\"] = \"/content/spark-3.1.2-bin-hadoop3.2\""
      ],
      "execution_count": 7,
      "outputs": []
    },
    {
      "cell_type": "code",
      "metadata": {
        "id": "x6iSlLyDc8u_"
      },
      "source": [
        "# Inicia o FindSpark e cria a instância da sessão Spark\n",
        "findspark.init()\n",
        "spark = SparkSession.builder.master(\"local[*]\").getOrCreate()"
      ],
      "execution_count": 8,
      "outputs": []
    },
    {
      "cell_type": "markdown",
      "metadata": {
        "id": "g5Aqgg8pa6Eb"
      },
      "source": [
        "####PySpark pronto para uso, divirta-se!"
      ]
    },
    {
      "cell_type": "code",
      "metadata": {
        "id": "Rg9bEJSczLKc"
      },
      "source": [
        "dataframe = spark.read.format(\"json\") \\\n",
        "  .option(\"multiLine\",True) \\\n",
        "  .load(\"sample_data/anscombe.json\")"
      ],
      "execution_count": 9,
      "outputs": []
    },
    {
      "cell_type": "code",
      "metadata": {
        "colab": {
          "base_uri": "https://localhost:8080/"
        },
        "id": "lJFzjZAadrlt",
        "outputId": "f32fb4a7-2947-4995-fc9b-5116d2dd0dd4"
      },
      "source": [
        "dataframe.columns"
      ],
      "execution_count": 10,
      "outputs": [
        {
          "output_type": "execute_result",
          "data": {
            "text/plain": [
              "['Series', 'X', 'Y']"
            ]
          },
          "metadata": {},
          "execution_count": 10
        }
      ]
    },
    {
      "cell_type": "code",
      "metadata": {
        "colab": {
          "base_uri": "https://localhost:8080/"
        },
        "id": "z3VP3_I1zSHc",
        "outputId": "7bfc1838-d1ff-4279-865f-f679f12c138a"
      },
      "source": [
        "dataframe.show(10)"
      ],
      "execution_count": 11,
      "outputs": [
        {
          "output_type": "stream",
          "name": "stdout",
          "text": [
            "+------+----+-----+\n",
            "|Series|   X|    Y|\n",
            "+------+----+-----+\n",
            "|     I|10.0| 8.04|\n",
            "|     I| 8.0| 6.95|\n",
            "|     I|13.0| 7.58|\n",
            "|     I| 9.0| 8.81|\n",
            "|     I|11.0| 8.33|\n",
            "|     I|14.0| 9.96|\n",
            "|     I| 6.0| 7.24|\n",
            "|     I| 4.0| 4.26|\n",
            "|     I|12.0|10.84|\n",
            "|     I| 7.0| 4.81|\n",
            "+------+----+-----+\n",
            "only showing top 10 rows\n",
            "\n"
          ]
        }
      ]
    },
    {
      "cell_type": "code",
      "metadata": {
        "colab": {
          "base_uri": "https://localhost:8080/"
        },
        "id": "jcG3zq3bzUI_",
        "outputId": "7f60c6e5-1e1c-4954-9a37-577ad62ed814"
      },
      "source": [
        "dataframe.printSchema()"
      ],
      "execution_count": 12,
      "outputs": [
        {
          "output_type": "stream",
          "name": "stdout",
          "text": [
            "root\n",
            " |-- Series: string (nullable = true)\n",
            " |-- X: double (nullable = true)\n",
            " |-- Y: double (nullable = true)\n",
            "\n"
          ]
        }
      ]
    },
    {
      "cell_type": "code",
      "metadata": {
        "id": "qMCRjQdSzW3i"
      },
      "source": [
        "dataframe_agrupado = dataframe \\\n",
        "  .groupBy(\"Series\") \\\n",
        "  .agg(F.avg(\"X\").alias(\"X_agrupado\")\n",
        "        , F.avg(\"Y\").alias(\"Y_agrupado\")) \\\n",
        "  .orderBy(\"Series\")"
      ],
      "execution_count": 13,
      "outputs": []
    },
    {
      "cell_type": "markdown",
      "metadata": {
        "id": "WpgLTdavdvqW"
      },
      "source": [
        "dataframe_agrupado.show()"
      ]
    },
    {
      "cell_type": "code",
      "metadata": {
        "colab": {
          "base_uri": "https://localhost:8080/"
        },
        "id": "hk_PPGKEzcsN",
        "outputId": "eb55157e-c371-4047-cccd-7d4a735c703a"
      },
      "source": [
        "dataframe_agrupado.explain()"
      ],
      "execution_count": 14,
      "outputs": [
        {
          "output_type": "stream",
          "name": "stdout",
          "text": [
            "== Physical Plan ==\n",
            "*(3) Sort [Series#0 ASC NULLS FIRST], true, 0\n",
            "+- Exchange rangepartitioning(Series#0 ASC NULLS FIRST, 200), ENSURE_REQUIREMENTS, [id=#38]\n",
            "   +- *(2) HashAggregate(keys=[Series#0], functions=[avg(X#1), avg(Y#2)])\n",
            "      +- Exchange hashpartitioning(Series#0, 200), ENSURE_REQUIREMENTS, [id=#34]\n",
            "         +- *(1) HashAggregate(keys=[Series#0], functions=[partial_avg(X#1), partial_avg(Y#2)])\n",
            "            +- FileScan json [Series#0,X#1,Y#2] Batched: false, DataFilters: [], Format: JSON, Location: InMemoryFileIndex[file:/content/sample_data/anscombe.json], PartitionFilters: [], PushedFilters: [], ReadSchema: struct<Series:string,X:double,Y:double>\n",
            "\n",
            "\n"
          ]
        }
      ]
    },
    {
      "cell_type": "code",
      "metadata": {
        "id": "uQjgUFVLzqcE"
      },
      "source": [
        "df = spark.createDataFrame(\n",
        "    [ (1., 4.)\n",
        "    , (2., 5.)\n",
        "    , (3., 6.)]\n",
        "    , [\"A\", \"B\"])"
      ],
      "execution_count": 15,
      "outputs": []
    },
    {
      "cell_type": "code",
      "metadata": {
        "colab": {
          "base_uri": "https://localhost:8080/"
        },
        "id": "rI4wXnG-dykN",
        "outputId": "8e3c6b05-a993-4943-f401-ec0260d95f95"
      },
      "source": [
        "df.show()"
      ],
      "execution_count": 16,
      "outputs": [
        {
          "output_type": "stream",
          "name": "stdout",
          "text": [
            "+---+---+\n",
            "|  A|  B|\n",
            "+---+---+\n",
            "|1.0|4.0|\n",
            "|2.0|5.0|\n",
            "|3.0|6.0|\n",
            "+---+---+\n",
            "\n"
          ]
        }
      ]
    },
    {
      "cell_type": "code",
      "metadata": {
        "id": "9Lo3JztX0LxH"
      },
      "source": [
        "df = spark.createDataFrame(\n",
        "  [\n",
        "      ('864.754.453-33,565.878.787-43',)\n",
        "    , ('565.878.787-43 864.754.453-33 565.878.787-43',)\n",
        "    , ('333.444.555-66 222.222.222-33',)\n",
        "  ]\n",
        "  , [\"cpf\",])"
      ],
      "execution_count": 17,
      "outputs": []
    },
    {
      "cell_type": "code",
      "metadata": {
        "colab": {
          "base_uri": "https://localhost:8080/"
        },
        "id": "SIMEEmc3d8o6",
        "outputId": "5c878bcc-27bd-4d2b-9e93-66066f107952"
      },
      "source": [
        "df.show(10,False)"
      ],
      "execution_count": 18,
      "outputs": [
        {
          "output_type": "stream",
          "name": "stdout",
          "text": [
            "+--------------------------------------------+\n",
            "|cpf                                         |\n",
            "+--------------------------------------------+\n",
            "|864.754.453-33,565.878.787-43               |\n",
            "|565.878.787-43 864.754.453-33 565.878.787-43|\n",
            "|333.444.555-66 222.222.222-33               |\n",
            "+--------------------------------------------+\n",
            "\n"
          ]
        }
      ]
    },
    {
      "cell_type": "code",
      "metadata": {
        "colab": {
          "base_uri": "https://localhost:8080/"
        },
        "id": "BCpG7yID1Jr9",
        "outputId": "4de3cabb-fba5-4975-8e8f-70e32efbcbcf"
      },
      "source": [
        "df.select(\n",
        "      df.cpf\n",
        "    , F.length(F.regexp_replace(df.cpf, r'\\d+\\.\\d+\\.\\d+\\-\\d+', '')).alias('reg1')\n",
        "    , F.length(F.regexp_replace(df.cpf, r'\\d{3}\\.\\d{3}\\.\\d{3}\\-\\d{2}', '')).alias('reg2')\n",
        "    , df.cpf.rlike(r'\\d{3}\\.\\d{3}\\.\\d{3}\\-\\d{2}').alias('reg3')\n",
        ").show(10, False)"
      ],
      "execution_count": 19,
      "outputs": [
        {
          "output_type": "stream",
          "name": "stdout",
          "text": [
            "+--------------------------------------------+----+----+----+\n",
            "|cpf                                         |reg1|reg2|reg3|\n",
            "+--------------------------------------------+----+----+----+\n",
            "|864.754.453-33,565.878.787-43               |1   |1   |true|\n",
            "|565.878.787-43 864.754.453-33 565.878.787-43|2   |2   |true|\n",
            "|333.444.555-66 222.222.222-33               |1   |1   |true|\n",
            "+--------------------------------------------+----+----+----+\n",
            "\n"
          ]
        }
      ]
    },
    {
      "cell_type": "code",
      "metadata": {
        "id": "69zm-xH-IOlu"
      },
      "source": [
        "df2 = spark.createDataFrame(\n",
        "  [\n",
        "      ('http://site.com:8080/',)\n",
        "    , ('http://localhost.com:8080/?pub=200',)\n",
        "    , ('http://server.com:1234',)\n",
        "    , ('http://server.com',)\n",
        "  ]\n",
        "  , [\"url\",])"
      ],
      "execution_count": 20,
      "outputs": []
    },
    {
      "cell_type": "code",
      "metadata": {
        "colab": {
          "base_uri": "https://localhost:8080/"
        },
        "id": "A0L3KIsWeINM",
        "outputId": "e5aade4e-2639-45ec-d365-9650c0eaba3b"
      },
      "source": [
        "df2.show(10,False)"
      ],
      "execution_count": 21,
      "outputs": [
        {
          "output_type": "stream",
          "name": "stdout",
          "text": [
            "+----------------------------------+\n",
            "|url                               |\n",
            "+----------------------------------+\n",
            "|http://site.com:8080/             |\n",
            "|http://localhost.com:8080/?pub=200|\n",
            "|http://server.com:1234            |\n",
            "|http://server.com                 |\n",
            "+----------------------------------+\n",
            "\n"
          ]
        }
      ]
    },
    {
      "cell_type": "code",
      "metadata": {
        "colab": {
          "base_uri": "https://localhost:8080/"
        },
        "id": "qMro4CgVJz67",
        "outputId": "d2d4d149-8844-4e92-f2a1-3ebed63eba7c"
      },
      "source": [
        "df2.select(\n",
        "      df2.url\n",
        "    , df2.url.rlike(r'https?:[\\/]{2}\\s+').alias('reg1')\n",
        "    , df2.url.rlike(r'https?:[\\/]{2}([a-zA-Z0-9]+\\.[a-zA-Z]{2,4})(:[0-9]+)?').alias('reg2')\n",
        "    , df2.url.rlike(r'https?:[\\/]{2}([a-zA-Z0-9]+\\.[a-zA-Z]{2,4})(:[0-9]+)').alias('reg3')\n",
        "    , df2.url.rlike(r'https?:\\/{2}').alias('reg4')\n",
        ").show(10, False)"
      ],
      "execution_count": 22,
      "outputs": [
        {
          "output_type": "stream",
          "name": "stdout",
          "text": [
            "+----------------------------------+-----+----+-----+----+\n",
            "|url                               |reg1 |reg2|reg3 |reg4|\n",
            "+----------------------------------+-----+----+-----+----+\n",
            "|http://site.com:8080/             |false|true|true |true|\n",
            "|http://localhost.com:8080/?pub=200|false|true|true |true|\n",
            "|http://server.com:1234            |false|true|true |true|\n",
            "|http://server.com                 |false|true|false|true|\n",
            "+----------------------------------+-----+----+-----+----+\n",
            "\n"
          ]
        }
      ]
    }
  ]
}
