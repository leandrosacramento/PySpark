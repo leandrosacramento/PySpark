{
  "nbformat": 4,
  "nbformat_minor": 0,
  "metadata": {
    "colab": {
      "name": "pyspark_google_colab.ipynb",
      "provenance": [],
      "collapsed_sections": []
    },
    "kernelspec": {
      "name": "python3",
      "display_name": "Python 3"
    },
    "language_info": {
      "name": "python"
    }
  },
  "cells": [
    {
      "cell_type": "markdown",
      "metadata": {
        "id": "lg2_ToWkaP2K"
      },
      "source": [
        "#**PySpark no Google Colab**\n",
        "---"
      ]
    },
    {
      "cell_type": "markdown",
      "metadata": {
        "id": "KdG2fw-nalgR"
      },
      "source": [
        "####Configurando o Google Colab para habilitar o uso do PySpark"
      ]
    },
    {
      "cell_type": "code",
      "metadata": {
        "id": "8Tyi0_Kkwr98"
      },
      "source": [
        "# Instalação do Java JDK 8\n",
        "!apt-get install openjdk-8-jdk-headless -qq > /dev/null"
      ],
      "execution_count": 1,
      "outputs": []
    },
    {
      "cell_type": "code",
      "metadata": {
        "id": "7cgdUcYAwudD"
      },
      "source": [
        "# Download do Apache Spark 3.1.2\n",
        "!wget -q https://downloads.apache.org/spark/spark-3.1.2/spark-3.1.2-bin-hadoop3.2.tgz"
      ],
      "execution_count": 3,
      "outputs": []
    },
    {
      "cell_type": "code",
      "metadata": {
        "id": "C55wOdDlwy_p"
      },
      "source": [
        "# Descompactação do Apache Spark 3.1.2\n",
        "!tar xf spark-3.1.2-bin-hadoop3.2.tgz"
      ],
      "execution_count": 4,
      "outputs": []
    },
    {
      "cell_type": "code",
      "metadata": {
        "id": "Jl-lZaHFcHrX"
      },
      "source": [
        "# Remove o arquivo compactado do Apache Spark 3.1.2\n",
        "!rm -rf spark-3.1.2-bin-hadoop3.2.tgz"
      ],
      "execution_count": 6,
      "outputs": []
    },
    {
      "cell_type": "code",
      "metadata": {
        "id": "p7SeYXKgyAfS",
        "colab": {
          "base_uri": "https://localhost:8080/"
        },
        "outputId": "d0019386-c3ff-4a8d-8985-c4f9cfb2681b"
      },
      "source": [
        "# Instala os módulos FindSpark e PySpark\n",
        "!pip install -q findspark\n",
        "!pip install -q pyspark"
      ],
      "execution_count": null,
      "outputs": [
        {
          "output_type": "stream",
          "name": "stdout",
          "text": [
            "\u001b[K     |████████████████████████████▉   | 253.2 MB 1.2 MB/s eta 0:00:23"
          ]
        }
      ]
    },
    {
      "cell_type": "markdown",
      "metadata": {
        "id": "Mnbo-U4EdVy2"
      },
      "source": [
        "####Configurando o ambiente para uso do PySpark"
      ]
    },
    {
      "cell_type": "code",
      "metadata": {
        "id": "CXXP8BV8YGer"
      },
      "source": [
        "# Importa o módulos\n",
        "import os\n",
        "import findspark\n",
        "from pyspark.sql import SparkSession\n",
        "from pyspark.sql import functions as F"
      ],
      "execution_count": 19,
      "outputs": []
    },
    {
      "cell_type": "code",
      "metadata": {
        "id": "Gg_n020caIcU"
      },
      "source": [
        "#  Define as variáveis ambientes Home do Java e Spark\n",
        "os.environ[\"JAVA_HOME\"] = \"/usr/lib/jvm/java-8-openjdk-amd64\"\n",
        "os.environ[\"SPARK_HOME\"] = \"/content/spark-3.1.2-bin-hadoop3.2\""
      ],
      "execution_count": 8,
      "outputs": []
    },
    {
      "cell_type": "code",
      "metadata": {
        "id": "x6iSlLyDc8u_"
      },
      "source": [
        "# Inicia o FindSpark e cria a instância da sessão Spark\n",
        "findspark.init()\n",
        "spark = SparkSession.builder.master(\"local[*]\").getOrCreate()"
      ],
      "execution_count": 12,
      "outputs": []
    },
    {
      "cell_type": "markdown",
      "metadata": {
        "id": "g5Aqgg8pa6Eb"
      },
      "source": [
        "####PySpark pronto para uso, divirta-se!"
      ]
    },
    {
      "cell_type": "code",
      "metadata": {
        "colab": {
          "base_uri": "https://localhost:8080/"
        },
        "id": "Rg9bEJSczLKc",
        "outputId": "85fea9e1-6804-4052-9c16-e4bfd3fcdc13"
      },
      "source": [
        "dataset = spark.read.format(\"json\") \\\n",
        "  .option(\"multiLine\",True) \\\n",
        "  .load(\"sample_data/anscombe.json\")"
      ],
      "execution_count": 11,
      "outputs": [
        {
          "output_type": "execute_result",
          "data": {
            "text/plain": [
              "['Series', 'X', 'Y']"
            ]
          },
          "metadata": {},
          "execution_count": 11
        }
      ]
    },
    {
      "cell_type": "code",
      "metadata": {
        "id": "lJFzjZAadrlt"
      },
      "source": [
        "dataset.columns"
      ],
      "execution_count": null,
      "outputs": []
    },
    {
      "cell_type": "code",
      "metadata": {
        "id": "z3VP3_I1zSHc"
      },
      "source": [
        "dataset.show(10)"
      ],
      "execution_count": null,
      "outputs": []
    },
    {
      "cell_type": "code",
      "metadata": {
        "id": "jcG3zq3bzUI_"
      },
      "source": [
        "dataset.printSchema()"
      ],
      "execution_count": null,
      "outputs": []
    },
    {
      "cell_type": "code",
      "metadata": {
        "id": "qMCRjQdSzW3i"
      },
      "source": [
        "dataset_agrupado = dataset \\\n",
        "  .groupBy(\"Series\") \\\n",
        "  .agg(F.avg(\"X\").alias(\"X_agrupado\")\n",
        "        , F.avg(\"Y\").alias(\"Y_agrupado\")) \\\n",
        "  .orderBy(\"Series\")"
      ],
      "execution_count": null,
      "outputs": []
    },
    {
      "cell_type": "markdown",
      "metadata": {
        "id": "WpgLTdavdvqW"
      },
      "source": [
        "dataset_agrupado.show()"
      ]
    },
    {
      "cell_type": "code",
      "metadata": {
        "id": "hk_PPGKEzcsN"
      },
      "source": [
        "dataset_agrupado.explain()"
      ],
      "execution_count": null,
      "outputs": []
    },
    {
      "cell_type": "code",
      "metadata": {
        "id": "uQjgUFVLzqcE"
      },
      "source": [
        "df = spark.createDataFrame(\n",
        "    [ (1., 4.)\n",
        "    , (2., 5.)\n",
        "    , (3., 6.)]\n",
        "    , [\"A\", \"B\"])"
      ],
      "execution_count": 13,
      "outputs": []
    },
    {
      "cell_type": "code",
      "metadata": {
        "colab": {
          "base_uri": "https://localhost:8080/"
        },
        "id": "rI4wXnG-dykN",
        "outputId": "c8c1fd38-ce75-4b0e-986a-b6894a67e94a"
      },
      "source": [
        "df.show()"
      ],
      "execution_count": 14,
      "outputs": [
        {
          "output_type": "stream",
          "name": "stdout",
          "text": [
            "+---+---+\n",
            "|  A|  B|\n",
            "+---+---+\n",
            "|1.0|4.0|\n",
            "|2.0|5.0|\n",
            "|3.0|6.0|\n",
            "+---+---+\n",
            "\n"
          ]
        }
      ]
    },
    {
      "cell_type": "code",
      "metadata": {
        "id": "9Lo3JztX0LxH"
      },
      "source": [
        "df = spark.createDataFrame(\n",
        "  [\n",
        "      ('864.754.453-33,565.878.787-43',)\n",
        "    , ('565.878.787-43 864.754.453-33 565.878.787-43',)\n",
        "    , ('333.444.555-66 222.222.222-33',)\n",
        "  ]\n",
        "  , [\"cpf\",])"
      ],
      "execution_count": 16,
      "outputs": []
    },
    {
      "cell_type": "code",
      "metadata": {
        "colab": {
          "base_uri": "https://localhost:8080/"
        },
        "id": "SIMEEmc3d8o6",
        "outputId": "6811dfda-b372-46c0-96f6-f8aabf8ad24d"
      },
      "source": [
        "df.show(10,False)"
      ],
      "execution_count": 20,
      "outputs": [
        {
          "output_type": "stream",
          "name": "stdout",
          "text": [
            "+--------------------------------------------+\n",
            "|cpf                                         |\n",
            "+--------------------------------------------+\n",
            "|864.754.453-33,565.878.787-43               |\n",
            "|565.878.787-43 864.754.453-33 565.878.787-43|\n",
            "|333.444.555-66 222.222.222-33               |\n",
            "+--------------------------------------------+\n",
            "\n"
          ]
        }
      ]
    },
    {
      "cell_type": "code",
      "metadata": {
        "colab": {
          "base_uri": "https://localhost:8080/"
        },
        "id": "BCpG7yID1Jr9",
        "outputId": "59702978-b926-4ae2-a426-3586abcc1e4a"
      },
      "source": [
        "df.select(\n",
        "      df.cpf\n",
        "    , F.length(F.regexp_replace(df.cpf, r'\\d+\\.\\d+\\.\\d+\\-\\d+', '')).alias('reg1')\n",
        "    , F.length(F.regexp_replace(df.cpf, r'\\d{3}\\.\\d{3}\\.\\d{3}\\-\\d{2}', '')).alias('reg2')\n",
        "    , df.cpf.rlike(r'\\d{3}\\.\\d{3}\\.\\d{3}\\-\\d{2}').alias('reg3')\n",
        ").show(10, False)"
      ],
      "execution_count": 21,
      "outputs": [
        {
          "output_type": "stream",
          "name": "stdout",
          "text": [
            "+--------------------------------------------+----+----+----+\n",
            "|cpf                                         |reg1|reg2|reg3|\n",
            "+--------------------------------------------+----+----+----+\n",
            "|864.754.453-33,565.878.787-43               |1   |1   |true|\n",
            "|565.878.787-43 864.754.453-33 565.878.787-43|2   |2   |true|\n",
            "|333.444.555-66 222.222.222-33               |1   |1   |true|\n",
            "+--------------------------------------------+----+----+----+\n",
            "\n"
          ]
        }
      ]
    },
    {
      "cell_type": "code",
      "metadata": {
        "id": "69zm-xH-IOlu"
      },
      "source": [
        "df2 = spark.createDataFrame(\n",
        "  [\n",
        "      ('http://site.com:8080/',)\n",
        "    , ('http://localhost.com:8080/?pub=200',)\n",
        "    , ('http://server.com:1234',)\n",
        "    , ('http://server.com',)\n",
        "  ]\n",
        "  , [\"url\",])"
      ],
      "execution_count": 23,
      "outputs": []
    },
    {
      "cell_type": "code",
      "metadata": {
        "colab": {
          "base_uri": "https://localhost:8080/"
        },
        "id": "A0L3KIsWeINM",
        "outputId": "a66f3653-1082-461b-cef2-d4679d21e87e"
      },
      "source": [
        "df2.show(10,False)"
      ],
      "execution_count": 24,
      "outputs": [
        {
          "output_type": "stream",
          "name": "stdout",
          "text": [
            "+----------------------------------+\n",
            "|url                               |\n",
            "+----------------------------------+\n",
            "|http://site.com:8080/             |\n",
            "|http://localhost.com:8080/?pub=200|\n",
            "|http://server.com:1234            |\n",
            "|http://server.com                 |\n",
            "+----------------------------------+\n",
            "\n"
          ]
        }
      ]
    },
    {
      "cell_type": "code",
      "metadata": {
        "colab": {
          "base_uri": "https://localhost:8080/"
        },
        "id": "qMro4CgVJz67",
        "outputId": "5fb1dcda-d6d2-4e65-819e-9a36c1bee4b1"
      },
      "source": [
        "df2.select(\n",
        "      df2.url\n",
        "    , df2.url.rlike(r'https?:[\\/]{2}\\s+').alias('reg1')\n",
        "    , df2.url.rlike(r'https?:[\\/]{2}([a-zA-Z0-9]+\\.[a-zA-Z]{2,4})(:[0-9]+)?').alias('reg2')\n",
        "    , df2.url.rlike(r'https?:[\\/]{2}([a-zA-Z0-9]+\\.[a-zA-Z]{2,4})(:[0-9]+)').alias('reg3')\n",
        "    , df2.url.rlike(r'https?:\\/{2}').alias('reg4')\n",
        ").show(10, False)"
      ],
      "execution_count": 25,
      "outputs": [
        {
          "output_type": "stream",
          "name": "stdout",
          "text": [
            "+----------------------------------+-----+----+-----+----+\n",
            "|url                               |reg1 |reg2|reg3 |reg4|\n",
            "+----------------------------------+-----+----+-----+----+\n",
            "|http://site.com:8080/             |false|true|true |true|\n",
            "|http://localhost.com:8080/?pub=200|false|true|true |true|\n",
            "|http://server.com:1234            |false|true|true |true|\n",
            "|http://server.com                 |false|true|false|true|\n",
            "+----------------------------------+-----+----+-----+----+\n",
            "\n"
          ]
        }
      ]
    }
  ]
}